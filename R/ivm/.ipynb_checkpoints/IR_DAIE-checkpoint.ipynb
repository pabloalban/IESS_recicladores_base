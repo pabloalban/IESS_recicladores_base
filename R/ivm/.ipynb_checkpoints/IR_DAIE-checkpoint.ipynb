{
 "cells": [
  {
   "cell_type": "code",
   "execution_count": 1,
   "metadata": {},
   "outputs": [],
   "source": [
    "import pandas as pd\n",
    "import numpy as np\n",
    "import scipy #Anaconda prompt: conda install scipy, o pip install scipy\n",
    "from scipy import stats\n",
    "import matplotlib.pyplot as ppl\n",
    "import seaborn as sns\n",
    "%matplotlib inline"
   ]
  },
  {
   "cell_type": "code",
   "execution_count": 219,
   "metadata": {},
   "outputs": [
    {
     "data": {
      "text/plain": [
       "CEDULA                  object\n",
       "ASEGURADO                int64\n",
       "FECHA_INICIO_PENSION    object\n",
       "TIPO_PRESTACION         object\n",
       "FECHA_NACIMIENTO        object\n",
       "FECHA_DEFUNCION         object\n",
       "FECHA_FIN_PENSION       object\n",
       "dtype: object"
      ]
     },
     "execution_count": 219,
     "metadata": {},
     "output_type": "execute_result"
    }
   ],
   "source": [
    "dis=pd.read_csv('Y:/IESS_2020/Data/IVM/INPUT/ESCENARIO_BASE/DEMOGRAPHIC/TRANSITION_PROBABILITIES/POB_PEN_INDIS_2020.txt', sep=';')\n",
    "dis.dtypes"
   ]
  },
  {
   "cell_type": "code",
   "execution_count": 220,
   "metadata": {},
   "outputs": [
    {
     "data": {
      "text/html": [
       "<div>\n",
       "<style scoped>\n",
       "    .dataframe tbody tr th:only-of-type {\n",
       "        vertical-align: middle;\n",
       "    }\n",
       "\n",
       "    .dataframe tbody tr th {\n",
       "        vertical-align: top;\n",
       "    }\n",
       "\n",
       "    .dataframe thead th {\n",
       "        text-align: right;\n",
       "    }\n",
       "</style>\n",
       "<table border=\"1\" class=\"dataframe\">\n",
       "  <thead>\n",
       "    <tr style=\"text-align: right;\">\n",
       "      <th></th>\n",
       "      <th>CEDULA</th>\n",
       "      <th>ASEGURADO</th>\n",
       "      <th>FECHA_INICIO_PENSION</th>\n",
       "      <th>TIPO_PRESTACION</th>\n",
       "      <th>FECHA_NACIMIENTO</th>\n",
       "      <th>FECHA_DEFUNCION</th>\n",
       "      <th>FECHA_FIN_PENSION</th>\n",
       "    </tr>\n",
       "  </thead>\n",
       "  <tbody>\n",
       "    <tr>\n",
       "      <th>0</th>\n",
       "      <td>%A%%EXXO%T</td>\n",
       "      <td>100744309</td>\n",
       "      <td>01/08/1996</td>\n",
       "      <td>INVALIDEZ</td>\n",
       "      <td>05/06/1930</td>\n",
       "      <td>NaN</td>\n",
       "      <td>30/06/2011</td>\n",
       "    </tr>\n",
       "    <tr>\n",
       "      <th>1</th>\n",
       "      <td>%A%AXATE&amp;%</td>\n",
       "      <td>101419760</td>\n",
       "      <td>01/02/2015</td>\n",
       "      <td>INVALIDEZ</td>\n",
       "      <td>13/01/1956</td>\n",
       "      <td>NaN</td>\n",
       "      <td>31/07/2015</td>\n",
       "    </tr>\n",
       "    <tr>\n",
       "      <th>2</th>\n",
       "      <td>%A%AE%OEOX</td>\n",
       "      <td>101703734</td>\n",
       "      <td>01/08/2015</td>\n",
       "      <td>INVALIDEZ</td>\n",
       "      <td>29/04/1960</td>\n",
       "      <td>NaN</td>\n",
       "      <td>31/10/2015</td>\n",
       "    </tr>\n",
       "    <tr>\n",
       "      <th>3</th>\n",
       "      <td>%A%yX%X%Ty</td>\n",
       "      <td>102404092</td>\n",
       "      <td>01/01/2015</td>\n",
       "      <td>INVALIDEZ</td>\n",
       "      <td>15/06/1965</td>\n",
       "      <td>NaN</td>\n",
       "      <td>31/03/2015</td>\n",
       "    </tr>\n",
       "    <tr>\n",
       "      <th>5</th>\n",
       "      <td>%y%%yAE%#A</td>\n",
       "      <td>200217081</td>\n",
       "      <td>01/11/2011</td>\n",
       "      <td>INVALIDEZ</td>\n",
       "      <td>29/12/1950</td>\n",
       "      <td>11/10/2017</td>\n",
       "      <td>31/12/2011</td>\n",
       "    </tr>\n",
       "  </tbody>\n",
       "</table>\n",
       "</div>"
      ],
      "text/plain": [
       "       CEDULA  ASEGURADO FECHA_INICIO_PENSION TIPO_PRESTACION  \\\n",
       "0  %A%%EXXO%T  100744309           01/08/1996       INVALIDEZ   \n",
       "1  %A%AXATE&%  101419760           01/02/2015       INVALIDEZ   \n",
       "2  %A%AE%OEOX  101703734           01/08/2015       INVALIDEZ   \n",
       "3  %A%yX%X%Ty  102404092           01/01/2015       INVALIDEZ   \n",
       "5  %y%%yAE%#A  200217081           01/11/2011       INVALIDEZ   \n",
       "\n",
       "  FECHA_NACIMIENTO FECHA_DEFUNCION FECHA_FIN_PENSION  \n",
       "0       05/06/1930             NaN        30/06/2011  \n",
       "1       13/01/1956             NaN        31/07/2015  \n",
       "2       29/04/1960             NaN        31/10/2015  \n",
       "3       15/06/1965             NaN        31/03/2015  \n",
       "5       29/12/1950      11/10/2017        31/12/2011  "
      ]
     },
     "execution_count": 220,
     "metadata": {},
     "output_type": "execute_result"
    }
   ],
   "source": [
    "dis['ASEGURADO'] = dis['ASEGURADO'].astype(str)\n",
    "dis = dis[dis['TIPO_PRESTACION'] == 'INVALIDEZ' ]\n",
    "dis.head(5)"
   ]
  },
  {
   "cell_type": "code",
   "execution_count": 50,
   "metadata": {},
   "outputs": [],
   "source": [
    "mdict={str(x)[-2::]:x-100 for x in range(101,113)}\n",
    "adict={str(x):x for x in range(1900,2021)}\n",
    "dis['b_m']=dis['FECHA_NACIMIENTO'].str[3:5].map(mdict)\n",
    "dis['b_y']=dis['FECHA_NACIMIENTO'].str[-4::].map(adict)\n",
    "dis['d_m']=dis['FECHA_INICIO_PENSION'].str[3:5].map(mdict)\n",
    "dis['d_y']=dis['FECHA_INICIO_PENSION'].str[-4::].map(adict)"
   ]
  },
  {
   "cell_type": "code",
   "execution_count": 51,
   "metadata": {},
   "outputs": [
    {
     "data": {
      "text/html": [
       "<div>\n",
       "<style scoped>\n",
       "    .dataframe tbody tr th:only-of-type {\n",
       "        vertical-align: middle;\n",
       "    }\n",
       "\n",
       "    .dataframe tbody tr th {\n",
       "        vertical-align: top;\n",
       "    }\n",
       "\n",
       "    .dataframe thead th {\n",
       "        text-align: right;\n",
       "    }\n",
       "</style>\n",
       "<table border=\"1\" class=\"dataframe\">\n",
       "  <thead>\n",
       "    <tr style=\"text-align: right;\">\n",
       "      <th></th>\n",
       "      <th>CEDULA</th>\n",
       "      <th>ASEGURADO</th>\n",
       "      <th>FECHA_INICIO_PENSION</th>\n",
       "      <th>TIPO_PRESTACION</th>\n",
       "      <th>FECHA_NACIMIENTO</th>\n",
       "      <th>FECHA_DEFUNCION</th>\n",
       "      <th>FECHA_FIN_PENSION</th>\n",
       "      <th>b_m</th>\n",
       "      <th>b_y</th>\n",
       "      <th>d_m</th>\n",
       "      <th>d_y</th>\n",
       "      <th>age_d</th>\n",
       "    </tr>\n",
       "  </thead>\n",
       "  <tbody>\n",
       "    <tr>\n",
       "      <th>1</th>\n",
       "      <td>%A%AXATE&amp;%</td>\n",
       "      <td>101419760</td>\n",
       "      <td>01/02/2015</td>\n",
       "      <td>INVALIDEZ</td>\n",
       "      <td>13/01/1956</td>\n",
       "      <td>NaN</td>\n",
       "      <td>31/07/2015</td>\n",
       "      <td>1.0</td>\n",
       "      <td>1956.0</td>\n",
       "      <td>2</td>\n",
       "      <td>2015.0</td>\n",
       "      <td>59.0</td>\n",
       "    </tr>\n",
       "    <tr>\n",
       "      <th>2</th>\n",
       "      <td>%A%AE%OEOX</td>\n",
       "      <td>101703734</td>\n",
       "      <td>01/08/2015</td>\n",
       "      <td>INVALIDEZ</td>\n",
       "      <td>29/04/1960</td>\n",
       "      <td>NaN</td>\n",
       "      <td>31/10/2015</td>\n",
       "      <td>4.0</td>\n",
       "      <td>1960.0</td>\n",
       "      <td>8</td>\n",
       "      <td>2015.0</td>\n",
       "      <td>55.0</td>\n",
       "    </tr>\n",
       "    <tr>\n",
       "      <th>3</th>\n",
       "      <td>%A%yX%X%Ty</td>\n",
       "      <td>102404092</td>\n",
       "      <td>01/01/2015</td>\n",
       "      <td>INVALIDEZ</td>\n",
       "      <td>15/06/1965</td>\n",
       "      <td>NaN</td>\n",
       "      <td>31/03/2015</td>\n",
       "      <td>6.0</td>\n",
       "      <td>1965.0</td>\n",
       "      <td>1</td>\n",
       "      <td>2015.0</td>\n",
       "      <td>49.0</td>\n",
       "    </tr>\n",
       "    <tr>\n",
       "      <th>5</th>\n",
       "      <td>%y%%yAE%#A</td>\n",
       "      <td>200217081</td>\n",
       "      <td>01/11/2011</td>\n",
       "      <td>INVALIDEZ</td>\n",
       "      <td>29/12/1950</td>\n",
       "      <td>11/10/2017</td>\n",
       "      <td>31/12/2011</td>\n",
       "      <td>12.0</td>\n",
       "      <td>1950.0</td>\n",
       "      <td>11</td>\n",
       "      <td>2011.0</td>\n",
       "      <td>60.0</td>\n",
       "    </tr>\n",
       "    <tr>\n",
       "      <th>7</th>\n",
       "      <td>%X%%XXTXAT</td>\n",
       "      <td>400449419</td>\n",
       "      <td>01/07/2013</td>\n",
       "      <td>INVALIDEZ</td>\n",
       "      <td>02/05/1952</td>\n",
       "      <td>11/05/2020</td>\n",
       "      <td>30/11/2013</td>\n",
       "      <td>5.0</td>\n",
       "      <td>1952.0</td>\n",
       "      <td>7</td>\n",
       "      <td>2013.0</td>\n",
       "      <td>61.0</td>\n",
       "    </tr>\n",
       "  </tbody>\n",
       "</table>\n",
       "</div>"
      ],
      "text/plain": [
       "       CEDULA  ASEGURADO FECHA_INICIO_PENSION TIPO_PRESTACION  \\\n",
       "1  %A%AXATE&%  101419760           01/02/2015       INVALIDEZ   \n",
       "2  %A%AE%OEOX  101703734           01/08/2015       INVALIDEZ   \n",
       "3  %A%yX%X%Ty  102404092           01/01/2015       INVALIDEZ   \n",
       "5  %y%%yAE%#A  200217081           01/11/2011       INVALIDEZ   \n",
       "7  %X%%XXTXAT  400449419           01/07/2013       INVALIDEZ   \n",
       "\n",
       "  FECHA_NACIMIENTO FECHA_DEFUNCION FECHA_FIN_PENSION   b_m     b_y  d_m  \\\n",
       "1       13/01/1956             NaN        31/07/2015   1.0  1956.0    2   \n",
       "2       29/04/1960             NaN        31/10/2015   4.0  1960.0    8   \n",
       "3       15/06/1965             NaN        31/03/2015   6.0  1965.0    1   \n",
       "5       29/12/1950      11/10/2017        31/12/2011  12.0  1950.0   11   \n",
       "7       02/05/1952      11/05/2020        30/11/2013   5.0  1952.0    7   \n",
       "\n",
       "      d_y  age_d  \n",
       "1  2015.0   59.0  \n",
       "2  2015.0   55.0  \n",
       "3  2015.0   49.0  \n",
       "5  2011.0   60.0  \n",
       "7  2013.0   61.0  "
      ]
     },
     "execution_count": 51,
     "metadata": {},
     "output_type": "execute_result"
    }
   ],
   "source": [
    "dis=dis[dis['d_y']>2003]\n",
    "dis['age_d']=dis['d_y']-dis['b_y']-1+(dis['b_m']<dis['d_m'])*1\n",
    "dis.head(5)"
   ]
  },
  {
   "cell_type": "code",
   "execution_count": 52,
   "metadata": {},
   "outputs": [
    {
     "data": {
      "text/plain": [
       "<matplotlib.axes._subplots.AxesSubplot at 0x2242f8f3c50>"
      ]
     },
     "execution_count": 52,
     "metadata": {},
     "output_type": "execute_result"
    },
    {
     "data": {
      "image/png": "[encoded data removed]",
      "text/plain": [
       "<Figure size 432x288 with 1 Axes>"
      ]
     },
     "metadata": {
      "needs_background": "light"
     },
     "output_type": "display_data"
    }
   ],
   "source": [
    "dis['age_d'].value_counts().sort_index().plot()"
   ]
  },
  {
   "cell_type": "code",
   "execution_count": 53,
   "metadata": {},
   "outputs": [],
   "source": [
    "# act = pd.read_csv('Y:/IESS_2020/Data/IVM/INPUT/ESCENARIO_BASE/DEMOGRAPHIC/TRANSITION_PROBABILITIES/activos_edades_2021_2020_IVM.csv', sep=',',index_col=0,header=[0] )\n",
    "act = pd.read_csv('Y:/IESS_2020/Data/IVM/INPUT/ESCENARIO_BASE/DEMOGRAPHIC/TRANSITION_PROBABILITIES/activos_edades_2021_2020_IVM_muestra.csv', sep=',',index_col=0,header=[0] )"
   ]
  },
  {
   "cell_type": "code",
   "execution_count": 54,
   "metadata": {},
   "outputs": [
    {
     "data": {
      "text/html": [
       "<div>\n",
       "<style scoped>\n",
       "    .dataframe tbody tr th:only-of-type {\n",
       "        vertical-align: middle;\n",
       "    }\n",
       "\n",
       "    .dataframe tbody tr th {\n",
       "        vertical-align: top;\n",
       "    }\n",
       "\n",
       "    .dataframe thead th {\n",
       "        text-align: right;\n",
       "    }\n",
       "</style>\n",
       "<table border=\"1\" class=\"dataframe\">\n",
       "  <thead>\n",
       "    <tr style=\"text-align: right;\">\n",
       "      <th></th>\n",
       "      <th>CEDULA</th>\n",
       "      <th>2012_12</th>\n",
       "      <th>2013_1</th>\n",
       "      <th>2013_2</th>\n",
       "      <th>2013_3</th>\n",
       "      <th>2013_4</th>\n",
       "      <th>2013_5</th>\n",
       "      <th>2013_6</th>\n",
       "      <th>2013_7</th>\n",
       "      <th>2013_8</th>\n",
       "      <th>...</th>\n",
       "      <th>2020_3</th>\n",
       "      <th>2020_4</th>\n",
       "      <th>2020_5</th>\n",
       "      <th>2020_6</th>\n",
       "      <th>2020_7</th>\n",
       "      <th>2020_8</th>\n",
       "      <th>2020_9</th>\n",
       "      <th>2020_10</th>\n",
       "      <th>2020_11</th>\n",
       "      <th>2020_12</th>\n",
       "    </tr>\n",
       "  </thead>\n",
       "  <tbody>\n",
       "    <tr>\n",
       "      <th>1</th>\n",
       "      <td>%#%%####&amp;T</td>\n",
       "      <td>49</td>\n",
       "      <td>49</td>\n",
       "      <td>49</td>\n",
       "      <td>49</td>\n",
       "      <td>49</td>\n",
       "      <td>49</td>\n",
       "      <td>49</td>\n",
       "      <td>49</td>\n",
       "      <td>49</td>\n",
       "      <td>...</td>\n",
       "      <td>0</td>\n",
       "      <td>0</td>\n",
       "      <td>0</td>\n",
       "      <td>0</td>\n",
       "      <td>0</td>\n",
       "      <td>0</td>\n",
       "      <td>0</td>\n",
       "      <td>0</td>\n",
       "      <td>0</td>\n",
       "      <td>0</td>\n",
       "    </tr>\n",
       "    <tr>\n",
       "      <th>2</th>\n",
       "      <td>%#%%####@A</td>\n",
       "      <td>55</td>\n",
       "      <td>55</td>\n",
       "      <td>55</td>\n",
       "      <td>55</td>\n",
       "      <td>55</td>\n",
       "      <td>55</td>\n",
       "      <td>55</td>\n",
       "      <td>55</td>\n",
       "      <td>55</td>\n",
       "      <td>...</td>\n",
       "      <td>0</td>\n",
       "      <td>0</td>\n",
       "      <td>0</td>\n",
       "      <td>0</td>\n",
       "      <td>0</td>\n",
       "      <td>0</td>\n",
       "      <td>0</td>\n",
       "      <td>0</td>\n",
       "      <td>0</td>\n",
       "      <td>0</td>\n",
       "    </tr>\n",
       "    <tr>\n",
       "      <th>3</th>\n",
       "      <td>%#%%####A%</td>\n",
       "      <td>0</td>\n",
       "      <td>48</td>\n",
       "      <td>48</td>\n",
       "      <td>48</td>\n",
       "      <td>48</td>\n",
       "      <td>48</td>\n",
       "      <td>48</td>\n",
       "      <td>48</td>\n",
       "      <td>48</td>\n",
       "      <td>...</td>\n",
       "      <td>0</td>\n",
       "      <td>0</td>\n",
       "      <td>0</td>\n",
       "      <td>0</td>\n",
       "      <td>0</td>\n",
       "      <td>0</td>\n",
       "      <td>0</td>\n",
       "      <td>0</td>\n",
       "      <td>0</td>\n",
       "      <td>0</td>\n",
       "    </tr>\n",
       "    <tr>\n",
       "      <th>4</th>\n",
       "      <td>%#%%####O&amp;</td>\n",
       "      <td>47</td>\n",
       "      <td>48</td>\n",
       "      <td>48</td>\n",
       "      <td>48</td>\n",
       "      <td>48</td>\n",
       "      <td>48</td>\n",
       "      <td>48</td>\n",
       "      <td>48</td>\n",
       "      <td>48</td>\n",
       "      <td>...</td>\n",
       "      <td>55</td>\n",
       "      <td>55</td>\n",
       "      <td>55</td>\n",
       "      <td>55</td>\n",
       "      <td>55</td>\n",
       "      <td>55</td>\n",
       "      <td>55</td>\n",
       "      <td>55</td>\n",
       "      <td>55</td>\n",
       "      <td>55</td>\n",
       "    </tr>\n",
       "    <tr>\n",
       "      <th>5</th>\n",
       "      <td>%#%%###%@T</td>\n",
       "      <td>0</td>\n",
       "      <td>0</td>\n",
       "      <td>0</td>\n",
       "      <td>0</td>\n",
       "      <td>0</td>\n",
       "      <td>0</td>\n",
       "      <td>0</td>\n",
       "      <td>0</td>\n",
       "      <td>0</td>\n",
       "      <td>...</td>\n",
       "      <td>0</td>\n",
       "      <td>0</td>\n",
       "      <td>0</td>\n",
       "      <td>0</td>\n",
       "      <td>0</td>\n",
       "      <td>0</td>\n",
       "      <td>0</td>\n",
       "      <td>0</td>\n",
       "      <td>0</td>\n",
       "      <td>0</td>\n",
       "    </tr>\n",
       "  </tbody>\n",
       "</table>\n",
       "<p>5 rows × 98 columns</p>\n",
       "</div>"
      ],
      "text/plain": [
       "       CEDULA  2012_12  2013_1  2013_2  2013_3  2013_4  2013_5  2013_6  \\\n",
       "1  %#%%####&T       49      49      49      49      49      49      49   \n",
       "2  %#%%####@A       55      55      55      55      55      55      55   \n",
       "3  %#%%####A%        0      48      48      48      48      48      48   \n",
       "4  %#%%####O&       47      48      48      48      48      48      48   \n",
       "5  %#%%###%@T        0       0       0       0       0       0       0   \n",
       "\n",
       "   2013_7  2013_8  ...  2020_3  2020_4  2020_5  2020_6  2020_7  2020_8  \\\n",
       "1      49      49  ...       0       0       0       0       0       0   \n",
       "2      55      55  ...       0       0       0       0       0       0   \n",
       "3      48      48  ...       0       0       0       0       0       0   \n",
       "4      48      48  ...      55      55      55      55      55      55   \n",
       "5       0       0  ...       0       0       0       0       0       0   \n",
       "\n",
       "   2020_9  2020_10  2020_11  2020_12  \n",
       "1       0        0        0        0  \n",
       "2       0        0        0        0  \n",
       "3       0        0        0        0  \n",
       "4      55       55       55       55  \n",
       "5       0        0        0        0  \n",
       "\n",
       "[5 rows x 98 columns]"
      ]
     },
     "execution_count": 54,
     "metadata": {},
     "output_type": "execute_result"
    }
   ],
   "source": [
    "act.head(5)"
   ]
  },
  {
   "cell_type": "code",
   "execution_count": 55,
   "metadata": {},
   "outputs": [],
   "source": [
    "rel = []\n",
    "for i in range(2013,2021):\n",
    "    for j in range(1,13):\n",
    "        rel.append( str(i)+ '_' + str(j) )"
   ]
  },
  {
   "cell_type": "code",
   "execution_count": 56,
   "metadata": {},
   "outputs": [
    {
     "data": {
      "text/html": [
       "<div>\n",
       "<style scoped>\n",
       "    .dataframe tbody tr th:only-of-type {\n",
       "        vertical-align: middle;\n",
       "    }\n",
       "\n",
       "    .dataframe tbody tr th {\n",
       "        vertical-align: top;\n",
       "    }\n",
       "\n",
       "    .dataframe thead th {\n",
       "        text-align: right;\n",
       "    }\n",
       "</style>\n",
       "<table border=\"1\" class=\"dataframe\">\n",
       "  <thead>\n",
       "    <tr style=\"text-align: right;\">\n",
       "      <th></th>\n",
       "      <th>CEDULA</th>\n",
       "      <th>2013_1</th>\n",
       "      <th>2013_2</th>\n",
       "      <th>2013_3</th>\n",
       "      <th>2013_4</th>\n",
       "      <th>2013_5</th>\n",
       "      <th>2013_6</th>\n",
       "      <th>2013_7</th>\n",
       "      <th>2013_8</th>\n",
       "      <th>2013_9</th>\n",
       "      <th>...</th>\n",
       "      <th>2020_3</th>\n",
       "      <th>2020_4</th>\n",
       "      <th>2020_5</th>\n",
       "      <th>2020_6</th>\n",
       "      <th>2020_7</th>\n",
       "      <th>2020_8</th>\n",
       "      <th>2020_9</th>\n",
       "      <th>2020_10</th>\n",
       "      <th>2020_11</th>\n",
       "      <th>2020_12</th>\n",
       "    </tr>\n",
       "  </thead>\n",
       "  <tbody>\n",
       "    <tr>\n",
       "      <th>1</th>\n",
       "      <td>%#%%####&amp;T</td>\n",
       "      <td>49</td>\n",
       "      <td>49</td>\n",
       "      <td>49</td>\n",
       "      <td>49</td>\n",
       "      <td>49</td>\n",
       "      <td>49</td>\n",
       "      <td>49</td>\n",
       "      <td>49</td>\n",
       "      <td>49</td>\n",
       "      <td>...</td>\n",
       "      <td>0</td>\n",
       "      <td>0</td>\n",
       "      <td>0</td>\n",
       "      <td>0</td>\n",
       "      <td>0</td>\n",
       "      <td>0</td>\n",
       "      <td>0</td>\n",
       "      <td>0</td>\n",
       "      <td>0</td>\n",
       "      <td>0</td>\n",
       "    </tr>\n",
       "    <tr>\n",
       "      <th>2</th>\n",
       "      <td>%#%%####@A</td>\n",
       "      <td>55</td>\n",
       "      <td>55</td>\n",
       "      <td>55</td>\n",
       "      <td>55</td>\n",
       "      <td>55</td>\n",
       "      <td>55</td>\n",
       "      <td>55</td>\n",
       "      <td>55</td>\n",
       "      <td>55</td>\n",
       "      <td>...</td>\n",
       "      <td>0</td>\n",
       "      <td>0</td>\n",
       "      <td>0</td>\n",
       "      <td>0</td>\n",
       "      <td>0</td>\n",
       "      <td>0</td>\n",
       "      <td>0</td>\n",
       "      <td>0</td>\n",
       "      <td>0</td>\n",
       "      <td>0</td>\n",
       "    </tr>\n",
       "    <tr>\n",
       "      <th>3</th>\n",
       "      <td>%#%%####A%</td>\n",
       "      <td>48</td>\n",
       "      <td>48</td>\n",
       "      <td>48</td>\n",
       "      <td>48</td>\n",
       "      <td>48</td>\n",
       "      <td>48</td>\n",
       "      <td>48</td>\n",
       "      <td>48</td>\n",
       "      <td>48</td>\n",
       "      <td>...</td>\n",
       "      <td>0</td>\n",
       "      <td>0</td>\n",
       "      <td>0</td>\n",
       "      <td>0</td>\n",
       "      <td>0</td>\n",
       "      <td>0</td>\n",
       "      <td>0</td>\n",
       "      <td>0</td>\n",
       "      <td>0</td>\n",
       "      <td>0</td>\n",
       "    </tr>\n",
       "    <tr>\n",
       "      <th>4</th>\n",
       "      <td>%#%%####O&amp;</td>\n",
       "      <td>48</td>\n",
       "      <td>48</td>\n",
       "      <td>48</td>\n",
       "      <td>48</td>\n",
       "      <td>48</td>\n",
       "      <td>48</td>\n",
       "      <td>48</td>\n",
       "      <td>48</td>\n",
       "      <td>48</td>\n",
       "      <td>...</td>\n",
       "      <td>55</td>\n",
       "      <td>55</td>\n",
       "      <td>55</td>\n",
       "      <td>55</td>\n",
       "      <td>55</td>\n",
       "      <td>55</td>\n",
       "      <td>55</td>\n",
       "      <td>55</td>\n",
       "      <td>55</td>\n",
       "      <td>55</td>\n",
       "    </tr>\n",
       "    <tr>\n",
       "      <th>5</th>\n",
       "      <td>%#%%###%@T</td>\n",
       "      <td>0</td>\n",
       "      <td>0</td>\n",
       "      <td>0</td>\n",
       "      <td>0</td>\n",
       "      <td>0</td>\n",
       "      <td>0</td>\n",
       "      <td>0</td>\n",
       "      <td>0</td>\n",
       "      <td>0</td>\n",
       "      <td>...</td>\n",
       "      <td>0</td>\n",
       "      <td>0</td>\n",
       "      <td>0</td>\n",
       "      <td>0</td>\n",
       "      <td>0</td>\n",
       "      <td>0</td>\n",
       "      <td>0</td>\n",
       "      <td>0</td>\n",
       "      <td>0</td>\n",
       "      <td>0</td>\n",
       "    </tr>\n",
       "  </tbody>\n",
       "</table>\n",
       "<p>5 rows × 97 columns</p>\n",
       "</div>"
      ],
      "text/plain": [
       "       CEDULA  2013_1  2013_2  2013_3  2013_4  2013_5  2013_6  2013_7  2013_8  \\\n",
       "1  %#%%####&T      49      49      49      49      49      49      49      49   \n",
       "2  %#%%####@A      55      55      55      55      55      55      55      55   \n",
       "3  %#%%####A%      48      48      48      48      48      48      48      48   \n",
       "4  %#%%####O&      48      48      48      48      48      48      48      48   \n",
       "5  %#%%###%@T       0       0       0       0       0       0       0       0   \n",
       "\n",
       "   2013_9  ...  2020_3  2020_4  2020_5  2020_6  2020_7  2020_8  2020_9  \\\n",
       "1      49  ...       0       0       0       0       0       0       0   \n",
       "2      55  ...       0       0       0       0       0       0       0   \n",
       "3      48  ...       0       0       0       0       0       0       0   \n",
       "4      48  ...      55      55      55      55      55      55      55   \n",
       "5       0  ...       0       0       0       0       0       0       0   \n",
       "\n",
       "   2020_10  2020_11  2020_12  \n",
       "1        0        0        0  \n",
       "2        0        0        0  \n",
       "3        0        0        0  \n",
       "4       55       55       55  \n",
       "5        0        0        0  \n",
       "\n",
       "[5 rows x 97 columns]"
      ]
     },
     "execution_count": 56,
     "metadata": {},
     "output_type": "execute_result"
    }
   ],
   "source": [
    "col_names = ['CEDULA'] + rel\n",
    "act_m = act.loc[:,col_names]\n",
    "act_m.head(5)"
   ]
  },
  {
   "cell_type": "code",
   "execution_count": 57,
   "metadata": {},
   "outputs": [
    {
     "data": {
      "text/html": [
       "<div>\n",
       "<style scoped>\n",
       "    .dataframe tbody tr th:only-of-type {\n",
       "        vertical-align: middle;\n",
       "    }\n",
       "\n",
       "    .dataframe tbody tr th {\n",
       "        vertical-align: top;\n",
       "    }\n",
       "\n",
       "    .dataframe thead th {\n",
       "        text-align: right;\n",
       "    }\n",
       "</style>\n",
       "<table border=\"1\" class=\"dataframe\">\n",
       "  <thead>\n",
       "    <tr style=\"text-align: right;\">\n",
       "      <th></th>\n",
       "      <th>CEDULA</th>\n",
       "      <th>ANO_MES</th>\n",
       "      <th>EDAD</th>\n",
       "    </tr>\n",
       "  </thead>\n",
       "  <tbody>\n",
       "    <tr>\n",
       "      <th>0</th>\n",
       "      <td>%#%%####&amp;T</td>\n",
       "      <td>2013_1</td>\n",
       "      <td>49</td>\n",
       "    </tr>\n",
       "    <tr>\n",
       "      <th>1</th>\n",
       "      <td>%#%%####@A</td>\n",
       "      <td>2013_1</td>\n",
       "      <td>55</td>\n",
       "    </tr>\n",
       "    <tr>\n",
       "      <th>2</th>\n",
       "      <td>%#%%####A%</td>\n",
       "      <td>2013_1</td>\n",
       "      <td>48</td>\n",
       "    </tr>\n",
       "    <tr>\n",
       "      <th>3</th>\n",
       "      <td>%#%%####O&amp;</td>\n",
       "      <td>2013_1</td>\n",
       "      <td>48</td>\n",
       "    </tr>\n",
       "    <tr>\n",
       "      <th>4</th>\n",
       "      <td>%#%%###%@T</td>\n",
       "      <td>2013_1</td>\n",
       "      <td>0</td>\n",
       "    </tr>\n",
       "  </tbody>\n",
       "</table>\n",
       "</div>"
      ],
      "text/plain": [
       "       CEDULA ANO_MES  EDAD\n",
       "0  %#%%####&T  2013_1    49\n",
       "1  %#%%####@A  2013_1    55\n",
       "2  %#%%####A%  2013_1    48\n",
       "3  %#%%####O&  2013_1    48\n",
       "4  %#%%###%@T  2013_1     0"
      ]
     },
     "execution_count": 57,
     "metadata": {},
     "output_type": "execute_result"
    }
   ],
   "source": [
    "act_m1 = act_m.melt(id_vars = ['CEDULA'], var_name ='ANO_MES', value_name ='EDAD')\n",
    "act_m1.head(5)"
   ]
  },
  {
   "cell_type": "code",
   "execution_count": 58,
   "metadata": {},
   "outputs": [
    {
     "data": {
      "text/plain": [
       "<matplotlib.axes._subplots.AxesSubplot at 0x22430358828>"
      ]
     },
     "execution_count": 58,
     "metadata": {},
     "output_type": "execute_result"
    },
    {
     "data": {
      "image/png": "[encoded data removed]",
      "text/plain": [
       "<Figure size 432x288 with 1 Axes>"
      ]
     },
     "metadata": {
      "needs_background": "light"
     },
     "output_type": "display_data"
    }
   ],
   "source": [
    "aux = pd.DataFrame( act_m1['EDAD'].value_counts().sort_index().loc[15:69] )\n",
    "aux = aux[aux['EDAD']>1]\n",
    "aux = aux['EDAD'].dropna()\n",
    "aux.plot()"
   ]
  },
  {
   "cell_type": "code",
   "execution_count": 59,
   "metadata": {},
   "outputs": [],
   "source": [
    "aux2 = dis['age_d'].dropna()"
   ]
  },
  {
   "cell_type": "code",
   "execution_count": 60,
   "metadata": {},
   "outputs": [],
   "source": [
    "zt=scipy.stats.gaussian_kde(aux)\n",
    "zd=scipy.stats.gaussian_kde(aux2)\n",
    "dist_dis=pd.DataFrame(index=[i for i in range(14,70)],columns=['Total','dis'])\n",
    "for i in dist_dis.index:\n",
    "    dist_dis['Total'].loc[i]=zt.integrate_box_1d(14,i+1)\n",
    "    dist_dis['dis'].loc[i]=zd.integrate_box_1d(14,i+1)\n"
   ]
  },
  {
   "cell_type": "code",
   "execution_count": 61,
   "metadata": {},
   "outputs": [
    {
     "data": {
      "text/plain": [
       "<matplotlib.axes._subplots.AxesSubplot at 0x22430032c18>"
      ]
     },
     "execution_count": 61,
     "metadata": {},
     "output_type": "execute_result"
    },
    {
     "data": {
      "image/png": "[encoded data removed]",
      "text/plain": [
       "<Figure size 432x288 with 1 Axes>"
      ]
     },
     "metadata": {
      "needs_background": "light"
     },
     "output_type": "display_data"
    }
   ],
   "source": [
    "dist_dis.plot()"
   ]
  },
  {
   "cell_type": "code",
   "execution_count": 62,
   "metadata": {},
   "outputs": [],
   "source": [
    "dist_dis=dist_dis.diff()/dist_dis.diff().sum()"
   ]
  },
  {
   "cell_type": "code",
   "execution_count": 63,
   "metadata": {},
   "outputs": [
    {
     "data": {
      "text/plain": [
       "<matplotlib.axes._subplots.AxesSubplot at 0x2242d028cc0>"
      ]
     },
     "execution_count": 63,
     "metadata": {},
     "output_type": "execute_result"
    },
    {
     "data": {
      "image/png": "[encoded data removed]",
      "text/plain": [
       "<Figure size 432x288 with 1 Axes>"
      ]
     },
     "metadata": {
      "needs_background": "light"
     },
     "output_type": "display_data"
    }
   ],
   "source": [
    "dist_dis.plot()"
   ]
  },
  {
   "cell_type": "code",
   "execution_count": 64,
   "metadata": {},
   "outputs": [
    {
     "data": {
      "text/plain": [
       "<matplotlib.axes._subplots.AxesSubplot at 0x224306e5f28>"
      ]
     },
     "execution_count": 64,
     "metadata": {},
     "output_type": "execute_result"
    },
    {
     "data": {
      "image/png": "[encoded data removed]",
      "text/plain": [
       "<Figure size 432x288 with 1 Axes>"
      ]
     },
     "metadata": {
      "needs_background": "light"
     },
     "output_type": "display_data"
    }
   ],
   "source": [
    "(dist_dis['dis']/dist_dis['Total']).plot()"
   ]
  },
  {
   "cell_type": "code",
   "execution_count": null,
   "metadata": {},
   "outputs": [],
   "source": [
    "dist_dis_1 = pd.DataFrame(dist_dis['dis']/dist_dis['Total'])\n",
    "dist_dis_1.to_csv('Y:/IESS_2020/Data/IVM/INPUT/ESCENARIO_BASE/DEMOGRAPHIC/TRANSITION_PROBABILITIES/dist_dis.csv')"
   ]
  },
  {
   "cell_type": "code",
   "execution_count": 65,
   "metadata": {},
   "outputs": [
    {
     "data": {
      "text/html": [
       "<div>\n",
       "<style scoped>\n",
       "    .dataframe tbody tr th:only-of-type {\n",
       "        vertical-align: middle;\n",
       "    }\n",
       "\n",
       "    .dataframe tbody tr th {\n",
       "        vertical-align: top;\n",
       "    }\n",
       "\n",
       "    .dataframe thead th {\n",
       "        text-align: right;\n",
       "    }\n",
       "</style>\n",
       "<table border=\"1\" class=\"dataframe\">\n",
       "  <thead>\n",
       "    <tr style=\"text-align: right;\">\n",
       "      <th></th>\n",
       "      <th>Forma_P</th>\n",
       "    </tr>\n",
       "  </thead>\n",
       "  <tbody>\n",
       "    <tr>\n",
       "      <th>14</th>\n",
       "      <td>NaN</td>\n",
       "    </tr>\n",
       "    <tr>\n",
       "      <th>15</th>\n",
       "      <td>5.123421e-13</td>\n",
       "    </tr>\n",
       "    <tr>\n",
       "      <th>16</th>\n",
       "      <td>2.368243e-10</td>\n",
       "    </tr>\n",
       "    <tr>\n",
       "      <th>17</th>\n",
       "      <td>3.839265e-08</td>\n",
       "    </tr>\n",
       "    <tr>\n",
       "      <th>18</th>\n",
       "      <td>2.226468e-06</td>\n",
       "    </tr>\n",
       "  </tbody>\n",
       "</table>\n",
       "</div>"
      ],
      "text/plain": [
       "         Forma_P\n",
       "14           NaN\n",
       "15  5.123421e-13\n",
       "16  2.368243e-10\n",
       "17  3.839265e-08\n",
       "18  2.226468e-06"
      ]
     },
     "execution_count": 65,
     "metadata": {},
     "output_type": "execute_result"
    }
   ],
   "source": [
    "dis_ir = pd.read_csv('Y:/IESS_2020/Data/IVM/INPUT/ESCENARIO_BASE/DEMOGRAPHIC/TRANSITION_PROBABILITIES/dist_dis.csv', sep=',',index_col=0,header=[0] )\n",
    "dis_ir = pd.DataFrame( dis_ir)\n",
    "dis_ir.rename(columns={'0':'Forma_P'},inplace=True)\n",
    "dis_ir\n",
    "dis_ir.head(5)"
   ]
  },
  {
   "cell_type": "code",
   "execution_count": 66,
   "metadata": {},
   "outputs": [
    {
     "name": "stdout",
     "output_type": "stream",
     "text": [
      "Porcentaje de discapacidad 2.44563709616417%\n"
     ]
    }
   ],
   "source": [
    "ir_form = dis_ir\n",
    "ir_form\n",
    "pond =  0.00045\n",
    "ir_form['pond'] = pond * ir_form\n",
    "ir_form['pond_s'] = ir_form['pond'].shift(periods=1,fill_value=None)\n",
    "ir_form['sum_acu'] = np.cumsum(ir_form['pond_s'])\n",
    "ir_form['form'] = (1- ir_form['sum_acu'] )*ir_form['pond']\n",
    "ir_form.loc[15,'form'] = ir_form.loc[15,'pond']\n",
    "print( 'Porcentaje de discapacidad ' + str(ir_form['form'].fillna(0).sum() * 100)+'%')"
   ]
  },
  {
   "cell_type": "code",
   "execution_count": null,
   "metadata": {},
   "outputs": [],
   "source": [
    "#Exportar \n",
    "ir_form.to_csv('Y:/IESS_2020/Data/IVM/INPUT/ESCENARIO_BASE/DEMOGRAPHIC/TRANSITION_PROBABILITIES/ir_form.csv')"
   ]
  },
  {
   "cell_type": "code",
   "execution_count": 144,
   "metadata": {},
   "outputs": [
    {
     "data": {
      "text/html": [
       "<div>\n",
       "<style scoped>\n",
       "    .dataframe tbody tr th:only-of-type {\n",
       "        vertical-align: middle;\n",
       "    }\n",
       "\n",
       "    .dataframe tbody tr th {\n",
       "        vertical-align: top;\n",
       "    }\n",
       "\n",
       "    .dataframe thead th {\n",
       "        text-align: right;\n",
       "    }\n",
       "</style>\n",
       "<table border=\"1\" class=\"dataframe\">\n",
       "  <thead>\n",
       "    <tr style=\"text-align: right;\">\n",
       "      <th></th>\n",
       "      <th>CEDULA</th>\n",
       "      <th>ASEGURADO</th>\n",
       "      <th>FECHA_INICIO_PENSION</th>\n",
       "      <th>TIPO_PRESTACION</th>\n",
       "      <th>FECHA_NACIMIENTO</th>\n",
       "      <th>FECHA_DEFUNCION</th>\n",
       "      <th>FECHA_FIN_PENSION</th>\n",
       "      <th>SEXO</th>\n",
       "    </tr>\n",
       "  </thead>\n",
       "  <tbody>\n",
       "    <tr>\n",
       "      <th>0</th>\n",
       "      <td>%A%%%yOTXX</td>\n",
       "      <td>100023944</td>\n",
       "      <td>01/01/1981</td>\n",
       "      <td>INVALIDEZ</td>\n",
       "      <td>08/05/1917</td>\n",
       "      <td>18/09/2011</td>\n",
       "      <td>30/06/2011</td>\n",
       "      <td>M</td>\n",
       "    </tr>\n",
       "    <tr>\n",
       "      <th>1</th>\n",
       "      <td>%A%%%yXT@T</td>\n",
       "      <td>100024959</td>\n",
       "      <td>01/09/2013</td>\n",
       "      <td>INVALIDEZ</td>\n",
       "      <td>06/01/1947</td>\n",
       "      <td>NaN</td>\n",
       "      <td>31/10/2013</td>\n",
       "      <td>H</td>\n",
       "    </tr>\n",
       "    <tr>\n",
       "      <th>2</th>\n",
       "      <td>%A%%%yXT@T</td>\n",
       "      <td>100024959</td>\n",
       "      <td>01/09/2013</td>\n",
       "      <td>INVALIDEZ</td>\n",
       "      <td>06/01/1947</td>\n",
       "      <td>NaN</td>\n",
       "      <td>30/06/2017</td>\n",
       "      <td>H</td>\n",
       "    </tr>\n",
       "    <tr>\n",
       "      <th>3</th>\n",
       "      <td>%A%%%AA@&amp;#</td>\n",
       "      <td>100011568</td>\n",
       "      <td>01/05/1982</td>\n",
       "      <td>INVALIDEZ</td>\n",
       "      <td>30/05/1932</td>\n",
       "      <td>NaN</td>\n",
       "      <td>30/06/2011</td>\n",
       "      <td>M</td>\n",
       "    </tr>\n",
       "    <tr>\n",
       "      <th>4</th>\n",
       "      <td>%A%%%yEyTA</td>\n",
       "      <td>100027291</td>\n",
       "      <td>01/05/1971</td>\n",
       "      <td>INVALIDEZ</td>\n",
       "      <td>18/04/1931</td>\n",
       "      <td>NaN</td>\n",
       "      <td>30/06/2011</td>\n",
       "      <td>M</td>\n",
       "    </tr>\n",
       "  </tbody>\n",
       "</table>\n",
       "</div>"
      ],
      "text/plain": [
       "       CEDULA  ASEGURADO FECHA_INICIO_PENSION TIPO_PRESTACION  \\\n",
       "0  %A%%%yOTXX  100023944           01/01/1981       INVALIDEZ   \n",
       "1  %A%%%yXT@T  100024959           01/09/2013       INVALIDEZ   \n",
       "2  %A%%%yXT@T  100024959           01/09/2013       INVALIDEZ   \n",
       "3  %A%%%AA@&#  100011568           01/05/1982       INVALIDEZ   \n",
       "4  %A%%%yEyTA  100027291           01/05/1971       INVALIDEZ   \n",
       "\n",
       "  FECHA_NACIMIENTO FECHA_DEFUNCION FECHA_FIN_PENSION SEXO  \n",
       "0       08/05/1917      18/09/2011        30/06/2011    M  \n",
       "1       06/01/1947             NaN        31/10/2013    H  \n",
       "2       06/01/1947             NaN        30/06/2017    H  \n",
       "3       30/05/1932             NaN        30/06/2011    M  \n",
       "4       18/04/1931             NaN        30/06/2011    M  "
      ]
     },
     "execution_count": 144,
     "metadata": {},
     "output_type": "execute_result"
    }
   ],
   "source": [
    "# Se repite el proceso pero ahora por sexo ---------------------------------------------------------------------------------------\n",
    "# Para Hombres\n",
    "dis_m=pd.read_csv('Y:/IESS_2020/Data/IVM/INPUT/ESCENARIO_BASE/DEMOGRAPHIC/TRANSITION_PROBABILITIES/POB_PEN_INVDIS_2020.txt', sep=',')\n",
    "dis_m.head(5)"
   ]
  },
  {
   "cell_type": "code",
   "execution_count": 145,
   "metadata": {},
   "outputs": [
    {
     "data": {
      "text/html": [
       "<div>\n",
       "<style scoped>\n",
       "    .dataframe tbody tr th:only-of-type {\n",
       "        vertical-align: middle;\n",
       "    }\n",
       "\n",
       "    .dataframe tbody tr th {\n",
       "        vertical-align: top;\n",
       "    }\n",
       "\n",
       "    .dataframe thead th {\n",
       "        text-align: right;\n",
       "    }\n",
       "</style>\n",
       "<table border=\"1\" class=\"dataframe\">\n",
       "  <thead>\n",
       "    <tr style=\"text-align: right;\">\n",
       "      <th></th>\n",
       "      <th>CEDULA</th>\n",
       "      <th>ASEGURADO</th>\n",
       "      <th>FECHA_INICIO_PENSION</th>\n",
       "      <th>TIPO_PRESTACION</th>\n",
       "      <th>FECHA_NACIMIENTO</th>\n",
       "      <th>FECHA_DEFUNCION</th>\n",
       "      <th>FECHA_FIN_PENSION</th>\n",
       "      <th>SEXO</th>\n",
       "    </tr>\n",
       "  </thead>\n",
       "  <tbody>\n",
       "    <tr>\n",
       "      <th>1</th>\n",
       "      <td>%A%%%yXT@T</td>\n",
       "      <td>100024959</td>\n",
       "      <td>01/09/2013</td>\n",
       "      <td>INVALIDEZ</td>\n",
       "      <td>06/01/1947</td>\n",
       "      <td>NaN</td>\n",
       "      <td>31/10/2013</td>\n",
       "      <td>H</td>\n",
       "    </tr>\n",
       "    <tr>\n",
       "      <th>2</th>\n",
       "      <td>%A%%%yXT@T</td>\n",
       "      <td>100024959</td>\n",
       "      <td>01/09/2013</td>\n",
       "      <td>INVALIDEZ</td>\n",
       "      <td>06/01/1947</td>\n",
       "      <td>NaN</td>\n",
       "      <td>30/06/2017</td>\n",
       "      <td>H</td>\n",
       "    </tr>\n",
       "    <tr>\n",
       "      <th>5</th>\n",
       "      <td>%A%%%yEO&amp;&amp;</td>\n",
       "      <td>100027366</td>\n",
       "      <td>01/05/1997</td>\n",
       "      <td>INVALIDEZ</td>\n",
       "      <td>22/08/1936</td>\n",
       "      <td>NaN</td>\n",
       "      <td>31/05/2011</td>\n",
       "      <td>H</td>\n",
       "    </tr>\n",
       "    <tr>\n",
       "      <th>7</th>\n",
       "      <td>%A%%%%AE%%</td>\n",
       "      <td>100001700</td>\n",
       "      <td>01/12/1975</td>\n",
       "      <td>INVALIDEZ</td>\n",
       "      <td>10/03/1933</td>\n",
       "      <td>NaN</td>\n",
       "      <td>31/05/2011</td>\n",
       "      <td>H</td>\n",
       "    </tr>\n",
       "    <tr>\n",
       "      <th>8</th>\n",
       "      <td>%A%%%AOTOE</td>\n",
       "      <td>100013937</td>\n",
       "      <td>18/09/1998</td>\n",
       "      <td>INVALIDEZ</td>\n",
       "      <td>29/01/1937</td>\n",
       "      <td>26/06/2014</td>\n",
       "      <td>30/06/2011</td>\n",
       "      <td>H</td>\n",
       "    </tr>\n",
       "  </tbody>\n",
       "</table>\n",
       "</div>"
      ],
      "text/plain": [
       "       CEDULA  ASEGURADO FECHA_INICIO_PENSION TIPO_PRESTACION  \\\n",
       "1  %A%%%yXT@T  100024959           01/09/2013       INVALIDEZ   \n",
       "2  %A%%%yXT@T  100024959           01/09/2013       INVALIDEZ   \n",
       "5  %A%%%yEO&&  100027366           01/05/1997       INVALIDEZ   \n",
       "7  %A%%%%AE%%  100001700           01/12/1975       INVALIDEZ   \n",
       "8  %A%%%AOTOE  100013937           18/09/1998       INVALIDEZ   \n",
       "\n",
       "  FECHA_NACIMIENTO FECHA_DEFUNCION FECHA_FIN_PENSION SEXO  \n",
       "1       06/01/1947             NaN        31/10/2013    H  \n",
       "2       06/01/1947             NaN        30/06/2017    H  \n",
       "5       22/08/1936             NaN        31/05/2011    H  \n",
       "7       10/03/1933             NaN        31/05/2011    H  \n",
       "8       29/01/1937      26/06/2014        30/06/2011    H  "
      ]
     },
     "execution_count": 145,
     "metadata": {},
     "output_type": "execute_result"
    }
   ],
   "source": [
    "dis_m['ASEGURADO'] = dis_m['ASEGURADO'].astype(str)\n",
    "dis_m = dis_m[dis_m['TIPO_PRESTACION'] == 'INVALIDEZ' ]\n",
    "dis_m = dis_m[dis_m['SEXO']=='H']\n",
    "dis_m.head(5)"
   ]
  },
  {
   "cell_type": "code",
   "execution_count": 150,
   "metadata": {},
   "outputs": [
    {
     "data": {
      "text/plain": [
       "<matplotlib.axes._subplots.AxesSubplot at 0x22447766470>"
      ]
     },
     "execution_count": 150,
     "metadata": {},
     "output_type": "execute_result"
    },
    {
     "data": {
      "image/png": "[encoded data removed]",
      "text/plain": [
       "<Figure size 432x288 with 1 Axes>"
      ]
     },
     "metadata": {
      "needs_background": "light"
     },
     "output_type": "display_data"
    }
   ],
   "source": [
    "mdict={str(x)[-2::]:x-100 for x in range(101,113)}\n",
    "adict={str(x):x for x in range(1900,2021)}\n",
    "dis_m['b_m']=dis_m['FECHA_NACIMIENTO'].str[3:5].map(mdict)\n",
    "dis_m['b_y']=dis_m['FECHA_NACIMIENTO'].str[-4::].map(adict)\n",
    "dis_m['d_m']=dis_m['FECHA_INICIO_PENSION'].str[3:5].map(mdict)\n",
    "dis_m['d_y']=dis_m['FECHA_INICIO_PENSION'].str[-4::].map(adict)\n",
    "dis_m=dis_m[dis_m['d_y']>2003]\n",
    "dis_m['age_d']=dis_m['d_y']-dis_m['b_y']-1+(dis_m['b_m']<dis_m['d_m'])*1\n",
    "# dis_m.head(5)\n",
    "dis_m['age_d'].value_counts().sort_index().plot()"
   ]
  },
  {
   "cell_type": "code",
   "execution_count": 194,
   "metadata": {},
   "outputs": [
    {
     "data": {
      "text/html": [
       "<div>\n",
       "<style scoped>\n",
       "    .dataframe tbody tr th:only-of-type {\n",
       "        vertical-align: middle;\n",
       "    }\n",
       "\n",
       "    .dataframe tbody tr th {\n",
       "        vertical-align: top;\n",
       "    }\n",
       "\n",
       "    .dataframe thead th {\n",
       "        text-align: right;\n",
       "    }\n",
       "</style>\n",
       "<table border=\"1\" class=\"dataframe\">\n",
       "  <thead>\n",
       "    <tr style=\"text-align: right;\">\n",
       "      <th></th>\n",
       "      <th>CEDULA</th>\n",
       "      <th>2012_12</th>\n",
       "      <th>2013_1</th>\n",
       "      <th>2013_2</th>\n",
       "      <th>2013_3</th>\n",
       "      <th>2013_4</th>\n",
       "      <th>2013_5</th>\n",
       "      <th>2013_6</th>\n",
       "      <th>2013_7</th>\n",
       "      <th>2013_8</th>\n",
       "      <th>...</th>\n",
       "      <th>2020_3</th>\n",
       "      <th>2020_4</th>\n",
       "      <th>2020_5</th>\n",
       "      <th>2020_6</th>\n",
       "      <th>2020_7</th>\n",
       "      <th>2020_8</th>\n",
       "      <th>2020_9</th>\n",
       "      <th>2020_10</th>\n",
       "      <th>2020_11</th>\n",
       "      <th>2020_12</th>\n",
       "    </tr>\n",
       "  </thead>\n",
       "  <tbody>\n",
       "    <tr>\n",
       "      <th>1</th>\n",
       "      <td>%#%%####@A</td>\n",
       "      <td>55</td>\n",
       "      <td>55</td>\n",
       "      <td>55</td>\n",
       "      <td>55</td>\n",
       "      <td>55</td>\n",
       "      <td>55</td>\n",
       "      <td>55</td>\n",
       "      <td>55</td>\n",
       "      <td>55</td>\n",
       "      <td>...</td>\n",
       "      <td>0</td>\n",
       "      <td>0</td>\n",
       "      <td>0</td>\n",
       "      <td>0</td>\n",
       "      <td>0</td>\n",
       "      <td>0</td>\n",
       "      <td>0</td>\n",
       "      <td>0</td>\n",
       "      <td>0</td>\n",
       "      <td>0</td>\n",
       "    </tr>\n",
       "    <tr>\n",
       "      <th>2</th>\n",
       "      <td>%#%%####A%</td>\n",
       "      <td>0</td>\n",
       "      <td>48</td>\n",
       "      <td>48</td>\n",
       "      <td>48</td>\n",
       "      <td>48</td>\n",
       "      <td>48</td>\n",
       "      <td>48</td>\n",
       "      <td>48</td>\n",
       "      <td>48</td>\n",
       "      <td>...</td>\n",
       "      <td>0</td>\n",
       "      <td>0</td>\n",
       "      <td>0</td>\n",
       "      <td>0</td>\n",
       "      <td>0</td>\n",
       "      <td>0</td>\n",
       "      <td>0</td>\n",
       "      <td>0</td>\n",
       "      <td>0</td>\n",
       "      <td>0</td>\n",
       "    </tr>\n",
       "    <tr>\n",
       "      <th>3</th>\n",
       "      <td>%#%%####O&amp;</td>\n",
       "      <td>47</td>\n",
       "      <td>48</td>\n",
       "      <td>48</td>\n",
       "      <td>48</td>\n",
       "      <td>48</td>\n",
       "      <td>48</td>\n",
       "      <td>48</td>\n",
       "      <td>48</td>\n",
       "      <td>48</td>\n",
       "      <td>...</td>\n",
       "      <td>55</td>\n",
       "      <td>55</td>\n",
       "      <td>55</td>\n",
       "      <td>55</td>\n",
       "      <td>55</td>\n",
       "      <td>55</td>\n",
       "      <td>55</td>\n",
       "      <td>55</td>\n",
       "      <td>55</td>\n",
       "      <td>55</td>\n",
       "    </tr>\n",
       "    <tr>\n",
       "      <th>4</th>\n",
       "      <td>%#%%###&amp;#E</td>\n",
       "      <td>0</td>\n",
       "      <td>0</td>\n",
       "      <td>0</td>\n",
       "      <td>0</td>\n",
       "      <td>0</td>\n",
       "      <td>0</td>\n",
       "      <td>0</td>\n",
       "      <td>0</td>\n",
       "      <td>0</td>\n",
       "      <td>...</td>\n",
       "      <td>56</td>\n",
       "      <td>56</td>\n",
       "      <td>56</td>\n",
       "      <td>56</td>\n",
       "      <td>56</td>\n",
       "      <td>56</td>\n",
       "      <td>57</td>\n",
       "      <td>57</td>\n",
       "      <td>57</td>\n",
       "      <td>57</td>\n",
       "    </tr>\n",
       "    <tr>\n",
       "      <th>5</th>\n",
       "      <td>%#%%###&amp;Ay</td>\n",
       "      <td>47</td>\n",
       "      <td>47</td>\n",
       "      <td>47</td>\n",
       "      <td>47</td>\n",
       "      <td>47</td>\n",
       "      <td>48</td>\n",
       "      <td>48</td>\n",
       "      <td>48</td>\n",
       "      <td>48</td>\n",
       "      <td>...</td>\n",
       "      <td>0</td>\n",
       "      <td>0</td>\n",
       "      <td>0</td>\n",
       "      <td>0</td>\n",
       "      <td>0</td>\n",
       "      <td>0</td>\n",
       "      <td>0</td>\n",
       "      <td>0</td>\n",
       "      <td>0</td>\n",
       "      <td>0</td>\n",
       "    </tr>\n",
       "  </tbody>\n",
       "</table>\n",
       "<p>5 rows × 98 columns</p>\n",
       "</div>"
      ],
      "text/plain": [
       "       CEDULA  2012_12  2013_1  2013_2  2013_3  2013_4  2013_5  2013_6  \\\n",
       "1  %#%%####@A       55      55      55      55      55      55      55   \n",
       "2  %#%%####A%        0      48      48      48      48      48      48   \n",
       "3  %#%%####O&       47      48      48      48      48      48      48   \n",
       "4  %#%%###&#E        0       0       0       0       0       0       0   \n",
       "5  %#%%###&Ay       47      47      47      47      47      48      48   \n",
       "\n",
       "   2013_7  2013_8  ...  2020_3  2020_4  2020_5  2020_6  2020_7  2020_8  \\\n",
       "1      55      55  ...       0       0       0       0       0       0   \n",
       "2      48      48  ...       0       0       0       0       0       0   \n",
       "3      48      48  ...      55      55      55      55      55      55   \n",
       "4       0       0  ...      56      56      56      56      56      56   \n",
       "5      48      48  ...       0       0       0       0       0       0   \n",
       "\n",
       "   2020_9  2020_10  2020_11  2020_12  \n",
       "1       0        0        0        0  \n",
       "2       0        0        0        0  \n",
       "3      55       55       55       55  \n",
       "4      57       57       57       57  \n",
       "5       0        0        0        0  \n",
       "\n",
       "[5 rows x 98 columns]"
      ]
     },
     "execution_count": 194,
     "metadata": {},
     "output_type": "execute_result"
    }
   ],
   "source": [
    "#Para la población Masculina\n",
    "# act_m=pd.read_csv('Y:/IESS_2020/Data/IVM/INPUT/ESCENARIO_BASE/DEMOGRAPHIC/TRANSITION_PROBABILITIES/activos_edades_2021_2020_IVM_hombres.csv', sep=',',\n",
    "#                 ,index_col=0,header=[0] )\n",
    "#Para la muestra\n",
    "act_m=pd.read_csv('Y:/IESS_2020/Data/IVM/INPUT/ESCENARIO_BASE/DEMOGRAPHIC/TRANSITION_PROBABILITIES/activos_edades_2021_2020_IVM_muestra_hombres.csv', sep=',',\n",
    "                   index_col=0,header=[0] )\n",
    "act_m.head(5)"
   ]
  },
  {
   "cell_type": "code",
   "execution_count": 195,
   "metadata": {},
   "outputs": [
    {
     "data": {
      "text/plain": [
       "<matplotlib.axes._subplots.AxesSubplot at 0x2240bd95fd0>"
      ]
     },
     "execution_count": 195,
     "metadata": {},
     "output_type": "execute_result"
    },
    {
     "data": {
      "image/png": "[encoded data removed]",
      "text/plain": [
       "<Figure size 432x288 with 1 Axes>"
      ]
     },
     "metadata": {
      "needs_background": "light"
     },
     "output_type": "display_data"
    }
   ],
   "source": [
    "rel = []\n",
    "for i in range(2013,2021):\n",
    "    for j in range(1,13):\n",
    "        rel.append( str(i)+ '_' + str(j) )\n",
    "\n",
    "col_names = ['CEDULA'] + rel\n",
    "act_m = act_m.loc[:,col_names]\n",
    "act_m = act_m.melt(id_vars = ['CEDULA'], var_name ='ANO_MES', value_name ='EDAD')\n",
    "aux = pd.DataFrame( act_m['EDAD'].value_counts().sort_index().loc[15:69] )\n",
    "aux = aux[aux['EDAD']>1]\n",
    "aux = aux['EDAD'].dropna()\n",
    "aux.plot()"
   ]
  },
  {
   "cell_type": "code",
   "execution_count": 196,
   "metadata": {},
   "outputs": [
    {
     "data": {
      "text/plain": [
       "<matplotlib.axes._subplots.AxesSubplot at 0x2240b14b320>"
      ]
     },
     "execution_count": 196,
     "metadata": {},
     "output_type": "execute_result"
    },
    {
     "data": {
      "image/png": "[encoded data removed]",
      "text/plain": [
       "<Figure size 432x288 with 1 Axes>"
      ]
     },
     "metadata": {
      "needs_background": "light"
     },
     "output_type": "display_data"
    }
   ],
   "source": [
    "aux2 = dis_m['age_d'].dropna()\n",
    "zt=scipy.stats.gaussian_kde(aux)\n",
    "zd=scipy.stats.gaussian_kde(aux2)\n",
    "dist_dis=pd.DataFrame(index=[i for i in range(14,70)],columns=['Total','dis'])\n",
    "for i in dist_dis.index:\n",
    "    dist_dis['Total'].loc[i]=zt.integrate_box_1d(14,i+1)\n",
    "    dist_dis['dis'].loc[i]=zd.integrate_box_1d(14,i+1)\n",
    "\n",
    "dist_dis.plot()"
   ]
  },
  {
   "cell_type": "code",
   "execution_count": 197,
   "metadata": {},
   "outputs": [
    {
     "data": {
      "text/plain": [
       "<matplotlib.axes._subplots.AxesSubplot at 0x2240b1c1dd8>"
      ]
     },
     "execution_count": 197,
     "metadata": {},
     "output_type": "execute_result"
    },
    {
     "data": {
      "image/png": "[encoded data removed]",
      "text/plain": [
       "<Figure size 432x288 with 1 Axes>"
      ]
     },
     "metadata": {
      "needs_background": "light"
     },
     "output_type": "display_data"
    }
   ],
   "source": [
    "dist_dis=dist_dis.diff()/dist_dis.diff().sum()\n",
    "dist_dis.plot()"
   ]
  },
  {
   "cell_type": "code",
   "execution_count": 198,
   "metadata": {},
   "outputs": [
    {
     "data": {
      "text/plain": [
       "<matplotlib.axes._subplots.AxesSubplot at 0x2240b2230b8>"
      ]
     },
     "execution_count": 198,
     "metadata": {},
     "output_type": "execute_result"
    },
    {
     "data": {
      "image/png": "[encoded data removed]",
      "text/plain": [
       "<Figure size 432x288 with 1 Axes>"
      ]
     },
     "metadata": {
      "needs_background": "light"
     },
     "output_type": "display_data"
    }
   ],
   "source": [
    "(dist_dis['dis']/dist_dis['Total']).plot()"
   ]
  },
  {
   "cell_type": "code",
   "execution_count": 200,
   "metadata": {},
   "outputs": [],
   "source": [
    "dist_dis_1 = pd.DataFrame(dist_dis['dis']/dist_dis['Total'])\n",
    "dist_dis_1.to_csv('Y:/IESS_2020/Data/IVM/INPUT/ESCENARIO_BASE/DEMOGRAPHIC/TRANSITION_PROBABILITIES/dist_dis_hombres.csv')"
   ]
  },
  {
   "cell_type": "code",
   "execution_count": 28,
   "metadata": {},
   "outputs": [
    {
     "data": {
      "text/html": [
       "<div>\n",
       "<style scoped>\n",
       "    .dataframe tbody tr th:only-of-type {\n",
       "        vertical-align: middle;\n",
       "    }\n",
       "\n",
       "    .dataframe tbody tr th {\n",
       "        vertical-align: top;\n",
       "    }\n",
       "\n",
       "    .dataframe thead th {\n",
       "        text-align: right;\n",
       "    }\n",
       "</style>\n",
       "<table border=\"1\" class=\"dataframe\">\n",
       "  <thead>\n",
       "    <tr style=\"text-align: right;\">\n",
       "      <th></th>\n",
       "      <th>Forma_P</th>\n",
       "    </tr>\n",
       "  </thead>\n",
       "  <tbody>\n",
       "    <tr>\n",
       "      <th>14</th>\n",
       "      <td>NaN</td>\n",
       "    </tr>\n",
       "    <tr>\n",
       "      <th>15</th>\n",
       "      <td>5.303015e-09</td>\n",
       "    </tr>\n",
       "    <tr>\n",
       "      <th>16</th>\n",
       "      <td>1.697648e-07</td>\n",
       "    </tr>\n",
       "    <tr>\n",
       "      <th>17</th>\n",
       "      <td>3.141340e-06</td>\n",
       "    </tr>\n",
       "    <tr>\n",
       "      <th>18</th>\n",
       "      <td>3.474966e-05</td>\n",
       "    </tr>\n",
       "  </tbody>\n",
       "</table>\n",
       "</div>"
      ],
      "text/plain": [
       "         Forma_P\n",
       "14           NaN\n",
       "15  5.303015e-09\n",
       "16  1.697648e-07\n",
       "17  3.141340e-06\n",
       "18  3.474966e-05"
      ]
     },
     "execution_count": 28,
     "metadata": {},
     "output_type": "execute_result"
    }
   ],
   "source": [
    "dis_ir = pd.read_csv('Y:/IESS_2020/Data/IVM/INPUT/ESCENARIO_BASE/DEMOGRAPHIC/TRANSITION_PROBABILITIES/dist_dis_hombres.csv', sep=',',index_col=0,header=[0] )\n",
    "dis_ir = pd.DataFrame( dis_ir)\n",
    "dis_ir.rename(columns={'0':'Forma_P'},inplace=True)\n",
    "dis_ir.head(5)"
   ]
  },
  {
   "cell_type": "code",
   "execution_count": 29,
   "metadata": {},
   "outputs": [
    {
     "name": "stdout",
     "output_type": "stream",
     "text": [
      "Porcentaje de discapacidad 2.0096387576830947%\n"
     ]
    }
   ],
   "source": [
    "ir_form = dis_ir\n",
    "ir_form\n",
    "pond =  0.000369\n",
    "ir_form['pond'] = pond * ir_form\n",
    "ir_form['pond_s'] = ir_form['pond'].shift(periods=1,fill_value=None)\n",
    "ir_form['sum_acu'] = np.cumsum(ir_form['pond_s'])\n",
    "ir_form['form'] = (1- ir_form['sum_acu'] )*ir_form['pond']\n",
    "ir_form.loc[15,'form'] = ir_form.loc[15,'pond']\n",
    "print( 'Porcentaje de discapacidad ' + str(ir_form['form'].fillna(0).sum() * 100)+'%')"
   ]
  },
  {
   "cell_type": "code",
   "execution_count": 32,
   "metadata": {},
   "outputs": [],
   "source": [
    "ir_form.to_csv('Y:/IESS_2020/Data/IVM/INPUT/ESCENARIO_BASE/DEMOGRAPHIC/TRANSITION_PROBABILITIES/ir_form_hombres.csv',\n",
    "                decimal= \",\", sep=';', float_format='%.15f')"
   ]
  },
  {
   "cell_type": "code",
   "execution_count": 207,
   "metadata": {},
   "outputs": [
    {
     "data": {
      "text/html": [
       "<div>\n",
       "<style scoped>\n",
       "    .dataframe tbody tr th:only-of-type {\n",
       "        vertical-align: middle;\n",
       "    }\n",
       "\n",
       "    .dataframe tbody tr th {\n",
       "        vertical-align: top;\n",
       "    }\n",
       "\n",
       "    .dataframe thead th {\n",
       "        text-align: right;\n",
       "    }\n",
       "</style>\n",
       "<table border=\"1\" class=\"dataframe\">\n",
       "  <thead>\n",
       "    <tr style=\"text-align: right;\">\n",
       "      <th></th>\n",
       "      <th>CEDULA</th>\n",
       "      <th>ASEGURADO</th>\n",
       "      <th>FECHA_INICIO_PENSION</th>\n",
       "      <th>TIPO_PRESTACION</th>\n",
       "      <th>FECHA_NACIMIENTO</th>\n",
       "      <th>FECHA_DEFUNCION</th>\n",
       "      <th>FECHA_FIN_PENSION</th>\n",
       "      <th>SEXO</th>\n",
       "    </tr>\n",
       "  </thead>\n",
       "  <tbody>\n",
       "    <tr>\n",
       "      <th>0</th>\n",
       "      <td>%A%%%yOTXX</td>\n",
       "      <td>100023944</td>\n",
       "      <td>01/01/1981</td>\n",
       "      <td>INVALIDEZ</td>\n",
       "      <td>08/05/1917</td>\n",
       "      <td>18/09/2011</td>\n",
       "      <td>30/06/2011</td>\n",
       "      <td>M</td>\n",
       "    </tr>\n",
       "    <tr>\n",
       "      <th>1</th>\n",
       "      <td>%A%%%yXT@T</td>\n",
       "      <td>100024959</td>\n",
       "      <td>01/09/2013</td>\n",
       "      <td>INVALIDEZ</td>\n",
       "      <td>06/01/1947</td>\n",
       "      <td>NaN</td>\n",
       "      <td>31/10/2013</td>\n",
       "      <td>H</td>\n",
       "    </tr>\n",
       "    <tr>\n",
       "      <th>2</th>\n",
       "      <td>%A%%%yXT@T</td>\n",
       "      <td>100024959</td>\n",
       "      <td>01/09/2013</td>\n",
       "      <td>INVALIDEZ</td>\n",
       "      <td>06/01/1947</td>\n",
       "      <td>NaN</td>\n",
       "      <td>30/06/2017</td>\n",
       "      <td>H</td>\n",
       "    </tr>\n",
       "    <tr>\n",
       "      <th>3</th>\n",
       "      <td>%A%%%AA@&amp;#</td>\n",
       "      <td>100011568</td>\n",
       "      <td>01/05/1982</td>\n",
       "      <td>INVALIDEZ</td>\n",
       "      <td>30/05/1932</td>\n",
       "      <td>NaN</td>\n",
       "      <td>30/06/2011</td>\n",
       "      <td>M</td>\n",
       "    </tr>\n",
       "    <tr>\n",
       "      <th>4</th>\n",
       "      <td>%A%%%yEyTA</td>\n",
       "      <td>100027291</td>\n",
       "      <td>01/05/1971</td>\n",
       "      <td>INVALIDEZ</td>\n",
       "      <td>18/04/1931</td>\n",
       "      <td>NaN</td>\n",
       "      <td>30/06/2011</td>\n",
       "      <td>M</td>\n",
       "    </tr>\n",
       "  </tbody>\n",
       "</table>\n",
       "</div>"
      ],
      "text/plain": [
       "       CEDULA  ASEGURADO FECHA_INICIO_PENSION TIPO_PRESTACION  \\\n",
       "0  %A%%%yOTXX  100023944           01/01/1981       INVALIDEZ   \n",
       "1  %A%%%yXT@T  100024959           01/09/2013       INVALIDEZ   \n",
       "2  %A%%%yXT@T  100024959           01/09/2013       INVALIDEZ   \n",
       "3  %A%%%AA@&#  100011568           01/05/1982       INVALIDEZ   \n",
       "4  %A%%%yEyTA  100027291           01/05/1971       INVALIDEZ   \n",
       "\n",
       "  FECHA_NACIMIENTO FECHA_DEFUNCION FECHA_FIN_PENSION SEXO  \n",
       "0       08/05/1917      18/09/2011        30/06/2011    M  \n",
       "1       06/01/1947             NaN        31/10/2013    H  \n",
       "2       06/01/1947             NaN        30/06/2017    H  \n",
       "3       30/05/1932             NaN        30/06/2011    M  \n",
       "4       18/04/1931             NaN        30/06/2011    M  "
      ]
     },
     "execution_count": 207,
     "metadata": {},
     "output_type": "execute_result"
    }
   ],
   "source": [
    "# Para Mujeres\n",
    "dis_f=pd.read_csv('Y:/IESS_2020/Data/IVM/INPUT/ESCENARIO_BASE/DEMOGRAPHIC/TRANSITION_PROBABILITIES/POB_PEN_INVDIS_2020.txt', sep=',')\n",
    "dis_f.head(5)"
   ]
  },
  {
   "cell_type": "code",
   "execution_count": 208,
   "metadata": {},
   "outputs": [
    {
     "data": {
      "text/html": [
       "<div>\n",
       "<style scoped>\n",
       "    .dataframe tbody tr th:only-of-type {\n",
       "        vertical-align: middle;\n",
       "    }\n",
       "\n",
       "    .dataframe tbody tr th {\n",
       "        vertical-align: top;\n",
       "    }\n",
       "\n",
       "    .dataframe thead th {\n",
       "        text-align: right;\n",
       "    }\n",
       "</style>\n",
       "<table border=\"1\" class=\"dataframe\">\n",
       "  <thead>\n",
       "    <tr style=\"text-align: right;\">\n",
       "      <th></th>\n",
       "      <th>CEDULA</th>\n",
       "      <th>ASEGURADO</th>\n",
       "      <th>FECHA_INICIO_PENSION</th>\n",
       "      <th>TIPO_PRESTACION</th>\n",
       "      <th>FECHA_NACIMIENTO</th>\n",
       "      <th>FECHA_DEFUNCION</th>\n",
       "      <th>FECHA_FIN_PENSION</th>\n",
       "      <th>SEXO</th>\n",
       "    </tr>\n",
       "  </thead>\n",
       "  <tbody>\n",
       "    <tr>\n",
       "      <th>0</th>\n",
       "      <td>%A%%%yOTXX</td>\n",
       "      <td>100023944</td>\n",
       "      <td>01/01/1981</td>\n",
       "      <td>INVALIDEZ</td>\n",
       "      <td>08/05/1917</td>\n",
       "      <td>18/09/2011</td>\n",
       "      <td>30/06/2011</td>\n",
       "      <td>M</td>\n",
       "    </tr>\n",
       "    <tr>\n",
       "      <th>3</th>\n",
       "      <td>%A%%%AA@&amp;#</td>\n",
       "      <td>100011568</td>\n",
       "      <td>01/05/1982</td>\n",
       "      <td>INVALIDEZ</td>\n",
       "      <td>30/05/1932</td>\n",
       "      <td>NaN</td>\n",
       "      <td>30/06/2011</td>\n",
       "      <td>M</td>\n",
       "    </tr>\n",
       "    <tr>\n",
       "      <th>4</th>\n",
       "      <td>%A%%%yEyTA</td>\n",
       "      <td>100027291</td>\n",
       "      <td>01/05/1971</td>\n",
       "      <td>INVALIDEZ</td>\n",
       "      <td>18/04/1931</td>\n",
       "      <td>NaN</td>\n",
       "      <td>30/06/2011</td>\n",
       "      <td>M</td>\n",
       "    </tr>\n",
       "    <tr>\n",
       "      <th>6</th>\n",
       "      <td>%A%%%y#A%T</td>\n",
       "      <td>100028109</td>\n",
       "      <td>01/07/2001</td>\n",
       "      <td>INVALIDEZ</td>\n",
       "      <td>06/12/1942</td>\n",
       "      <td>NaN</td>\n",
       "      <td>31/05/2011</td>\n",
       "      <td>M</td>\n",
       "    </tr>\n",
       "    <tr>\n",
       "      <th>10</th>\n",
       "      <td>%A%%%A&amp;T#T</td>\n",
       "      <td>100016989</td>\n",
       "      <td>01/07/2013</td>\n",
       "      <td>INVALIDEZ</td>\n",
       "      <td>17/10/1946</td>\n",
       "      <td>NaN</td>\n",
       "      <td>31/08/2013</td>\n",
       "      <td>M</td>\n",
       "    </tr>\n",
       "  </tbody>\n",
       "</table>\n",
       "</div>"
      ],
      "text/plain": [
       "        CEDULA  ASEGURADO FECHA_INICIO_PENSION TIPO_PRESTACION  \\\n",
       "0   %A%%%yOTXX  100023944           01/01/1981       INVALIDEZ   \n",
       "3   %A%%%AA@&#  100011568           01/05/1982       INVALIDEZ   \n",
       "4   %A%%%yEyTA  100027291           01/05/1971       INVALIDEZ   \n",
       "6   %A%%%y#A%T  100028109           01/07/2001       INVALIDEZ   \n",
       "10  %A%%%A&T#T  100016989           01/07/2013       INVALIDEZ   \n",
       "\n",
       "   FECHA_NACIMIENTO FECHA_DEFUNCION FECHA_FIN_PENSION SEXO  \n",
       "0        08/05/1917      18/09/2011        30/06/2011    M  \n",
       "3        30/05/1932             NaN        30/06/2011    M  \n",
       "4        18/04/1931             NaN        30/06/2011    M  \n",
       "6        06/12/1942             NaN        31/05/2011    M  \n",
       "10       17/10/1946             NaN        31/08/2013    M  "
      ]
     },
     "execution_count": 208,
     "metadata": {},
     "output_type": "execute_result"
    }
   ],
   "source": [
    "dis_f['ASEGURADO'] = dis_f['ASEGURADO'].astype(str)\n",
    "dis_f = dis_f[dis_f['TIPO_PRESTACION'] == 'INVALIDEZ' ]\n",
    "dis_f = dis_f[dis_f['SEXO']=='M']\n",
    "dis_f.head(5)"
   ]
  },
  {
   "cell_type": "code",
   "execution_count": 209,
   "metadata": {},
   "outputs": [
    {
     "data": {
      "text/plain": [
       "<matplotlib.axes._subplots.AxesSubplot at 0x2240b2191d0>"
      ]
     },
     "execution_count": 209,
     "metadata": {},
     "output_type": "execute_result"
    },
    {
     "data": {
      "image/png": "[encoded data removed]",
      "text/plain": [
       "<Figure size 432x288 with 1 Axes>"
      ]
     },
     "metadata": {
      "needs_background": "light"
     },
     "output_type": "display_data"
    }
   ],
   "source": [
    "mdict={str(x)[-2::]:x-100 for x in range(101,113)}\n",
    "adict={str(x):x for x in range(1900,2021)}\n",
    "dis_f['b_m']=dis_f['FECHA_NACIMIENTO'].str[3:5].map(mdict)\n",
    "dis_f['b_y']=dis_f['FECHA_NACIMIENTO'].str[-4::].map(adict)\n",
    "dis_f['d_m']=dis_f['FECHA_INICIO_PENSION'].str[3:5].map(mdict)\n",
    "dis_f['d_y']=dis_f['FECHA_INICIO_PENSION'].str[-4::].map(adict)\n",
    "dis_f=dis_f[dis_f['d_y']>2003]\n",
    "dis_f['age_d']=dis_f['d_y']-dis_f['b_y']-1+(dis_f['b_m']<dis_f['d_m'])*1\n",
    "# dis_m.head(5)\n",
    "dis_f['age_d'].value_counts().sort_index().plot()"
   ]
  },
  {
   "cell_type": "code",
   "execution_count": 210,
   "metadata": {},
   "outputs": [
    {
     "data": {
      "text/html": [
       "<div>\n",
       "<style scoped>\n",
       "    .dataframe tbody tr th:only-of-type {\n",
       "        vertical-align: middle;\n",
       "    }\n",
       "\n",
       "    .dataframe tbody tr th {\n",
       "        vertical-align: top;\n",
       "    }\n",
       "\n",
       "    .dataframe thead th {\n",
       "        text-align: right;\n",
       "    }\n",
       "</style>\n",
       "<table border=\"1\" class=\"dataframe\">\n",
       "  <thead>\n",
       "    <tr style=\"text-align: right;\">\n",
       "      <th></th>\n",
       "      <th>CEDULA</th>\n",
       "      <th>2012_12</th>\n",
       "      <th>2013_1</th>\n",
       "      <th>2013_2</th>\n",
       "      <th>2013_3</th>\n",
       "      <th>2013_4</th>\n",
       "      <th>2013_5</th>\n",
       "      <th>2013_6</th>\n",
       "      <th>2013_7</th>\n",
       "      <th>2013_8</th>\n",
       "      <th>...</th>\n",
       "      <th>2020_3</th>\n",
       "      <th>2020_4</th>\n",
       "      <th>2020_5</th>\n",
       "      <th>2020_6</th>\n",
       "      <th>2020_7</th>\n",
       "      <th>2020_8</th>\n",
       "      <th>2020_9</th>\n",
       "      <th>2020_10</th>\n",
       "      <th>2020_11</th>\n",
       "      <th>2020_12</th>\n",
       "    </tr>\n",
       "  </thead>\n",
       "  <tbody>\n",
       "    <tr>\n",
       "      <th>1</th>\n",
       "      <td>%#%%####&amp;T</td>\n",
       "      <td>49</td>\n",
       "      <td>49</td>\n",
       "      <td>49</td>\n",
       "      <td>49</td>\n",
       "      <td>49</td>\n",
       "      <td>49</td>\n",
       "      <td>49</td>\n",
       "      <td>49</td>\n",
       "      <td>49</td>\n",
       "      <td>...</td>\n",
       "      <td>0</td>\n",
       "      <td>0</td>\n",
       "      <td>0</td>\n",
       "      <td>0</td>\n",
       "      <td>0</td>\n",
       "      <td>0</td>\n",
       "      <td>0</td>\n",
       "      <td>0</td>\n",
       "      <td>0</td>\n",
       "      <td>0</td>\n",
       "    </tr>\n",
       "    <tr>\n",
       "      <th>2</th>\n",
       "      <td>%#%%###%@T</td>\n",
       "      <td>0</td>\n",
       "      <td>0</td>\n",
       "      <td>0</td>\n",
       "      <td>0</td>\n",
       "      <td>0</td>\n",
       "      <td>0</td>\n",
       "      <td>0</td>\n",
       "      <td>0</td>\n",
       "      <td>0</td>\n",
       "      <td>...</td>\n",
       "      <td>0</td>\n",
       "      <td>0</td>\n",
       "      <td>0</td>\n",
       "      <td>0</td>\n",
       "      <td>0</td>\n",
       "      <td>0</td>\n",
       "      <td>0</td>\n",
       "      <td>0</td>\n",
       "      <td>0</td>\n",
       "      <td>0</td>\n",
       "    </tr>\n",
       "    <tr>\n",
       "      <th>3</th>\n",
       "      <td>%#%%###&amp;O#</td>\n",
       "      <td>0</td>\n",
       "      <td>46</td>\n",
       "      <td>46</td>\n",
       "      <td>46</td>\n",
       "      <td>46</td>\n",
       "      <td>46</td>\n",
       "      <td>46</td>\n",
       "      <td>46</td>\n",
       "      <td>46</td>\n",
       "      <td>...</td>\n",
       "      <td>0</td>\n",
       "      <td>0</td>\n",
       "      <td>0</td>\n",
       "      <td>0</td>\n",
       "      <td>0</td>\n",
       "      <td>0</td>\n",
       "      <td>0</td>\n",
       "      <td>0</td>\n",
       "      <td>0</td>\n",
       "      <td>0</td>\n",
       "    </tr>\n",
       "    <tr>\n",
       "      <th>4</th>\n",
       "      <td>%#%%###@OT</td>\n",
       "      <td>48</td>\n",
       "      <td>48</td>\n",
       "      <td>48</td>\n",
       "      <td>48</td>\n",
       "      <td>48</td>\n",
       "      <td>48</td>\n",
       "      <td>48</td>\n",
       "      <td>48</td>\n",
       "      <td>48</td>\n",
       "      <td>...</td>\n",
       "      <td>55</td>\n",
       "      <td>55</td>\n",
       "      <td>55</td>\n",
       "      <td>55</td>\n",
       "      <td>55</td>\n",
       "      <td>55</td>\n",
       "      <td>56</td>\n",
       "      <td>56</td>\n",
       "      <td>56</td>\n",
       "      <td>56</td>\n",
       "    </tr>\n",
       "    <tr>\n",
       "      <th>5</th>\n",
       "      <td>%#%%###AAE</td>\n",
       "      <td>49</td>\n",
       "      <td>49</td>\n",
       "      <td>49</td>\n",
       "      <td>49</td>\n",
       "      <td>49</td>\n",
       "      <td>49</td>\n",
       "      <td>49</td>\n",
       "      <td>49</td>\n",
       "      <td>49</td>\n",
       "      <td>...</td>\n",
       "      <td>56</td>\n",
       "      <td>56</td>\n",
       "      <td>56</td>\n",
       "      <td>56</td>\n",
       "      <td>56</td>\n",
       "      <td>56</td>\n",
       "      <td>56</td>\n",
       "      <td>56</td>\n",
       "      <td>57</td>\n",
       "      <td>57</td>\n",
       "    </tr>\n",
       "  </tbody>\n",
       "</table>\n",
       "<p>5 rows × 98 columns</p>\n",
       "</div>"
      ],
      "text/plain": [
       "       CEDULA  2012_12  2013_1  2013_2  2013_3  2013_4  2013_5  2013_6  \\\n",
       "1  %#%%####&T       49      49      49      49      49      49      49   \n",
       "2  %#%%###%@T        0       0       0       0       0       0       0   \n",
       "3  %#%%###&O#        0      46      46      46      46      46      46   \n",
       "4  %#%%###@OT       48      48      48      48      48      48      48   \n",
       "5  %#%%###AAE       49      49      49      49      49      49      49   \n",
       "\n",
       "   2013_7  2013_8  ...  2020_3  2020_4  2020_5  2020_6  2020_7  2020_8  \\\n",
       "1      49      49  ...       0       0       0       0       0       0   \n",
       "2       0       0  ...       0       0       0       0       0       0   \n",
       "3      46      46  ...       0       0       0       0       0       0   \n",
       "4      48      48  ...      55      55      55      55      55      55   \n",
       "5      49      49  ...      56      56      56      56      56      56   \n",
       "\n",
       "   2020_9  2020_10  2020_11  2020_12  \n",
       "1       0        0        0        0  \n",
       "2       0        0        0        0  \n",
       "3       0        0        0        0  \n",
       "4      56       56       56       56  \n",
       "5      56       56       57       57  \n",
       "\n",
       "[5 rows x 98 columns]"
      ]
     },
     "execution_count": 210,
     "metadata": {},
     "output_type": "execute_result"
    }
   ],
   "source": [
    "#Para la población Femenina\n",
    "# act_m=pd.read_csv('Y:/IESS_2020/Data/IVM/INPUT/ESCENARIO_BASE/DEMOGRAPHIC/TRANSITION_PROBABILITIES/activos_edades_2021_2020_IVM_mujeres.csv', sep=',',\n",
    "#                 ,index_col=0,header=[0] )\n",
    "#Para la muestra\n",
    "act_f=pd.read_csv('Y:/IESS_2020/Data/IVM/INPUT/ESCENARIO_BASE/DEMOGRAPHIC/TRANSITION_PROBABILITIES/activos_edades_2021_2020_IVM_muestra_mujeres.csv', sep=',',\n",
    "                   index_col=0,header=[0] )\n",
    "act_f.head(5)"
   ]
  },
  {
   "cell_type": "code",
   "execution_count": 211,
   "metadata": {},
   "outputs": [
    {
     "data": {
      "text/plain": [
       "<matplotlib.axes._subplots.AxesSubplot at 0x2240c689b70>"
      ]
     },
     "execution_count": 211,
     "metadata": {},
     "output_type": "execute_result"
    },
    {
     "data": {
      "image/png": "[encoded data removed]",
      "text/plain": [
       "<Figure size 432x288 with 1 Axes>"
      ]
     },
     "metadata": {
      "needs_background": "light"
     },
     "output_type": "display_data"
    }
   ],
   "source": [
    "rel = []\n",
    "for i in range(2013,2021):\n",
    "    for j in range(1,13):\n",
    "        rel.append( str(i)+ '_' + str(j) )\n",
    "\n",
    "col_names = ['CEDULA'] + rel\n",
    "act_f = act_f.loc[:,col_names]\n",
    "act_f = act_f.melt(id_vars = ['CEDULA'], var_name ='ANO_MES', value_name ='EDAD')\n",
    "aux = pd.DataFrame( act_f['EDAD'].value_counts().sort_index().loc[15:69] )\n",
    "aux = aux[aux['EDAD']>1]\n",
    "aux = aux['EDAD'].dropna()\n",
    "aux.plot()"
   ]
  },
  {
   "cell_type": "code",
   "execution_count": 212,
   "metadata": {},
   "outputs": [
    {
     "data": {
      "text/plain": [
       "<matplotlib.axes._subplots.AxesSubplot at 0x224119d0940>"
      ]
     },
     "execution_count": 212,
     "metadata": {},
     "output_type": "execute_result"
    },
    {
     "data": {
      "image/png": "[encoded data removed]",
      "text/plain": [
       "<Figure size 432x288 with 1 Axes>"
      ]
     },
     "metadata": {
      "needs_background": "light"
     },
     "output_type": "display_data"
    }
   ],
   "source": [
    "aux2 = dis_f['age_d'].dropna()\n",
    "zt=scipy.stats.gaussian_kde(aux)\n",
    "zd=scipy.stats.gaussian_kde(aux2)\n",
    "dist_dis=pd.DataFrame(index=[i for i in range(14,70)],columns=['Total','dis'])\n",
    "for i in dist_dis.index:\n",
    "    dist_dis['Total'].loc[i]=zt.integrate_box_1d(14,i+1)\n",
    "    dist_dis['dis'].loc[i]=zd.integrate_box_1d(14,i+1)\n",
    "\n",
    "dist_dis.plot()"
   ]
  },
  {
   "cell_type": "code",
   "execution_count": 213,
   "metadata": {},
   "outputs": [
    {
     "data": {
      "text/plain": [
       "<matplotlib.axes._subplots.AxesSubplot at 0x224119b52b0>"
      ]
     },
     "execution_count": 213,
     "metadata": {},
     "output_type": "execute_result"
    },
    {
     "data": {
      "image/png": "[encoded data removed]",
      "text/plain": [
       "<Figure size 432x288 with 1 Axes>"
      ]
     },
     "metadata": {
      "needs_background": "light"
     },
     "output_type": "display_data"
    }
   ],
   "source": [
    "dist_dis=dist_dis.diff()/dist_dis.diff().sum()\n",
    "dist_dis.plot()"
   ]
  },
  {
   "cell_type": "code",
   "execution_count": 214,
   "metadata": {},
   "outputs": [
    {
     "data": {
      "text/plain": [
       "<matplotlib.axes._subplots.AxesSubplot at 0x22411aa95f8>"
      ]
     },
     "execution_count": 214,
     "metadata": {},
     "output_type": "execute_result"
    },
    {
     "data": {
      "image/png": "[encoded data removed]",
      "text/plain": [
       "<Figure size 432x288 with 1 Axes>"
      ]
     },
     "metadata": {
      "needs_background": "light"
     },
     "output_type": "display_data"
    }
   ],
   "source": [
    "(dist_dis['dis']/dist_dis['Total']).plot()"
   ]
  },
  {
   "cell_type": "code",
   "execution_count": 215,
   "metadata": {},
   "outputs": [],
   "source": [
    "dist_dis_1 = pd.DataFrame(dist_dis['dis']/dist_dis['Total'])\n",
    "dist_dis_1.to_csv('Y:/IESS_2020/Data/IVM/INPUT/ESCENARIO_BASE/DEMOGRAPHIC/TRANSITION_PROBABILITIES/dist_dis_mujeres.csv')"
   ]
  },
  {
   "cell_type": "code",
   "execution_count": 23,
   "metadata": {},
   "outputs": [
    {
     "data": {
      "text/html": [
       "<div>\n",
       "<style scoped>\n",
       "    .dataframe tbody tr th:only-of-type {\n",
       "        vertical-align: middle;\n",
       "    }\n",
       "\n",
       "    .dataframe tbody tr th {\n",
       "        vertical-align: top;\n",
       "    }\n",
       "\n",
       "    .dataframe thead th {\n",
       "        text-align: right;\n",
       "    }\n",
       "</style>\n",
       "<table border=\"1\" class=\"dataframe\">\n",
       "  <thead>\n",
       "    <tr style=\"text-align: right;\">\n",
       "      <th></th>\n",
       "      <th>Forma_P</th>\n",
       "    </tr>\n",
       "  </thead>\n",
       "  <tbody>\n",
       "    <tr>\n",
       "      <th>14</th>\n",
       "      <td>NaN</td>\n",
       "    </tr>\n",
       "    <tr>\n",
       "      <th>15</th>\n",
       "      <td>2.130783e-09</td>\n",
       "    </tr>\n",
       "    <tr>\n",
       "      <th>16</th>\n",
       "      <td>9.341042e-08</td>\n",
       "    </tr>\n",
       "    <tr>\n",
       "      <th>17</th>\n",
       "      <td>2.213088e-06</td>\n",
       "    </tr>\n",
       "    <tr>\n",
       "      <th>18</th>\n",
       "      <td>2.888907e-05</td>\n",
       "    </tr>\n",
       "  </tbody>\n",
       "</table>\n",
       "</div>"
      ],
      "text/plain": [
       "         Forma_P\n",
       "14           NaN\n",
       "15  2.130783e-09\n",
       "16  9.341042e-08\n",
       "17  2.213088e-06\n",
       "18  2.888907e-05"
      ]
     },
     "execution_count": 23,
     "metadata": {},
     "output_type": "execute_result"
    }
   ],
   "source": [
    "dis_ir = pd.read_csv('Y:/IESS_2020/Data/IVM/INPUT/ESCENARIO_BASE/DEMOGRAPHIC/TRANSITION_PROBABILITIES/dist_dis_mujeres.csv', sep=',',index_col=0,header=[0] )\n",
    "dis_ir = pd.DataFrame( dis_ir)\n",
    "dis_ir.rename(columns={'0':'Forma_P'},inplace=True)\n",
    "dis_ir.head(5)"
   ]
  },
  {
   "cell_type": "code",
   "execution_count": 24,
   "metadata": {},
   "outputs": [
    {
     "name": "stdout",
     "output_type": "stream",
     "text": [
      "Porcentaje de discapacidad 2.0043026041988226%\n"
     ]
    }
   ],
   "source": [
    "ir_form = dis_ir\n",
    "ir_form\n",
    "pond =  0.000368\n",
    "ir_form['pond'] = pond * ir_form\n",
    "ir_form['pond_s'] = ir_form['pond'].shift(periods=1,fill_value=None)\n",
    "ir_form['sum_acu'] = np.cumsum(ir_form['pond_s'])\n",
    "ir_form['form'] = (1- ir_form['sum_acu'] )*ir_form['pond']\n",
    "ir_form.loc[15,'form'] = ir_form.loc[15,'pond']\n",
    "print( 'Porcentaje de discapacidad ' + str(ir_form['form'].fillna(0).sum() * 100)+'%')"
   ]
  },
  {
   "cell_type": "code",
   "execution_count": 26,
   "metadata": {},
   "outputs": [],
   "source": [
    "ir_form.to_csv('Y:/IESS_2020/Data/IVM/INPUT/ESCENARIO_BASE/DEMOGRAPHIC/TRANSITION_PROBABILITIES/ir_form_mujeres.csv', \n",
    "               decimal= \",\", sep=';', float_format='%.15f')"
   ]
  }
 ],
 "metadata": {
  "kernelspec": {
   "display_name": "Python 3",
   "language": "python",
   "name": "python3"
  },
  "language_info": {
   "codemirror_mode": {
    "name": "ipython",
    "version": 3
   },
   "file_extension": ".py",
   "mimetype": "text/x-python",
   "name": "python",
   "nbconvert_exporter": "python",
   "pygments_lexer": "ipython3",
   "version": "3.7.3"
  }
 },
 "nbformat": 4,
 "nbformat_minor": 4
}
